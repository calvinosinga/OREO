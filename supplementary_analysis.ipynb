{
 "cells": [
  {
   "cell_type": "code",
   "execution_count": 1,
   "id": "fcda41c4",
   "metadata": {},
   "outputs": [],
   "source": [
    "import matplotlib.pyplot as plt\n",
    "from stars import StarTable\n",
    "import copy\n",
    "from planets import PlanetTable, CandidateTable\n",
    "import h5py as hp\n",
    "import numpy as np\n",
    "plt.rcParams['text.usetex'] = True\n",
    "plt.rcParams[\"font.family\"] = \"serif\"\n",
    "plt.rcParams[\"mathtext.fontset\"] = 'dejavuserif'"
   ]
  },
  {
   "cell_type": "code",
   "execution_count": 2,
   "id": "24ca3008",
   "metadata": {},
   "outputs": [
    {
     "name": "stdout",
     "output_type": "stream",
     "text": [
      "column headers from IPAC table:\n",
      "['pl_name', 'hostname', 'default_flag', 'sy_snum', 'sy_pnum', 'discoverymethod', 'disc_year', 'disc_facility', 'soltype', 'pl_controv_flag', 'pl_refname', 'pl_orbper', 'pl_orbpererr1', 'pl_orbpererr2', 'pl_orbperlim', 'pl_orbsmax', 'pl_orbsmaxerr1', 'pl_orbsmaxerr2', 'pl_orbsmaxlim', 'pl_rade', 'pl_radeerr1', 'pl_radeerr2', 'pl_radelim', 'pl_radj', 'pl_radjerr1', 'pl_radjerr2', 'pl_radjlim', 'pl_bmasse', 'pl_bmasseerr1', 'pl_bmasseerr2', 'pl_bmasselim', 'pl_bmassj', 'pl_bmassjerr1', 'pl_bmassjerr2', 'pl_bmassjlim', 'pl_bmassprov', 'pl_orbeccen', 'pl_orbeccenerr1', 'pl_orbeccenerr2', 'pl_orbeccenlim', 'pl_insol', 'pl_insolerr1', 'pl_insolerr2', 'pl_insollim', 'pl_eqt', 'pl_eqterr1', 'pl_eqterr2', 'pl_eqtlim', 'ttv_flag', 'st_refname', 'st_spectype', 'st_teff', 'st_tefferr1', 'st_tefferr2', 'st_tefflim', 'st_rad', 'st_raderr1', 'st_raderr2', 'st_radlim', 'st_mass', 'st_masserr1', 'st_masserr2', 'st_masslim', 'st_met', 'st_meterr1', 'st_meterr2', 'st_metlim', 'st_metratio', 'st_logg', 'st_loggerr1', 'st_loggerr2', 'st_logglim', 'sy_refname', 'rastr', 'ra', 'decstr', 'dec', 'sy_dist', 'sy_disterr1', 'sy_disterr2', 'sy_vmag', 'sy_vmagerr1', 'sy_vmagerr2', 'sy_kmag', 'sy_kmagerr1', 'sy_kmagerr2', 'sy_gaiamag', 'sy_gaiamagerr1', 'sy_gaiamagerr2', 'rowupdate', 'pl_pubdate', 'releasedate']\n",
      "\n",
      "loaded datasets:\n",
      "['name', 'star_name', 'star_count', 'planet_count', 'year_discovered', 'disputed_flag', 'period', 'smax', 'radius', 'mass', 'eccentricity', 'spectral_type', 'temperature', 'star_radius', 'star_mass', 'metallicity', 'metallicity_def', 'logg', 'mag']\n",
      "\n",
      "number of planets loaded:\n",
      "2709\n",
      "\n",
      "column headers from IPAC table:\n",
      "['kepid', 'kepoi_name', 'kepler_name', 'koi_disposition', 'koi_pdisposition', 'koi_score', 'koi_fpflag_nt', 'koi_fpflag_ss', 'koi_fpflag_co', 'koi_fpflag_ec', 'koi_period', 'koi_period_err1', 'koi_period_err2', 'koi_time0bk', 'koi_time0bk_err1', 'koi_time0bk_err2', 'koi_impact', 'koi_impact_err1', 'koi_impact_err2', 'koi_duration', 'koi_duration_err1', 'koi_duration_err2', 'koi_depth', 'koi_depth_err1', 'koi_depth_err2', 'koi_prad', 'koi_prad_err1', 'koi_prad_err2', 'koi_teq', 'koi_teq_err1', 'koi_teq_err2', 'koi_insol', 'koi_insol_err1', 'koi_insol_err2', 'koi_model_snr', 'koi_tce_plnt_num', 'koi_tce_delivname', 'koi_steff', 'koi_steff_err1', 'koi_steff_err2', 'koi_slogg', 'koi_slogg_err1', 'koi_slogg_err2', 'koi_smet', 'koi_smet_err1', 'koi_smet_err2', 'koi_srad', 'koi_srad_err1', 'koi_srad_err2', 'koi_smass', 'koi_smass_err1', 'koi_smass_err2', 'koi_sparprov', 'ra', 'dec', 'koi_kepmag']\n",
      "\n",
      "loaded datasets:\n",
      "['id', 'score', 'period', 'radius', 'snr', 'temperature', 'logg', 'metallicity', 'star_radius', 'mag']\n",
      "\n",
      "number of candidates loaded:\n",
      "2057\n",
      "\n"
     ]
    }
   ],
   "source": [
    "planets = PlanetTable()\n",
    "candidates = CandidateTable()\n",
    "planets.loadTable('x_confirmed.tbl')\n",
    "candidates.loadTable('cand_with_met.tbl')"
   ]
  },
  {
   "cell_type": "code",
   "execution_count": 3,
   "id": "067b4e2e",
   "metadata": {},
   "outputs": [
    {
     "name": "stdout",
     "output_type": "stream",
     "text": [
      "number of planets before period cut:\n",
      "2709\n",
      "\n",
      "number of planets to fail period cut:\n",
      "371\n",
      "\n",
      "number of planets left:\n",
      "2338\n",
      "\n",
      "number of planets before magnitude cut:\n",
      "2338\n",
      "\n",
      "number of planets to fail magnitude cut:\n",
      "5\n",
      "\n",
      "number of planets left:\n",
      "2333\n",
      "\n",
      "number of planets before effective temperature cut:\n",
      "2333\n",
      "\n",
      "number of planets to fail effective temperature cut:\n",
      "102\n",
      "\n",
      "number of planets left:\n",
      "2251\n",
      "\n",
      "number of planets before log(g) cut:\n",
      "2251\n",
      "\n",
      "number of planets to fail log(g) cut:\n",
      "150\n",
      "\n",
      "number of planets left:\n",
      "2175\n",
      "\n",
      "number of candidates before period cut:\n",
      "2057\n",
      "\n",
      "number of candidates to fail period cut:\n",
      "738\n",
      "\n",
      "number of candidates left:\n",
      "1319\n",
      "\n",
      "number of candidates before magnitude cut:\n",
      "1319\n",
      "\n",
      "number of candidates to fail magnitude cut:\n",
      "783\n",
      "\n",
      "number of candidates left:\n",
      "775\n",
      "\n",
      "number of candidates before effective temperature cut:\n",
      "775\n",
      "\n",
      "number of candidates to fail effective temperature cut:\n",
      "144\n",
      "\n",
      "number of candidates left:\n",
      "729\n",
      "\n",
      "number of candidates before log(g) cut:\n",
      "729\n",
      "\n",
      "number of candidates to fail log(g) cut:\n",
      "402\n",
      "\n",
      "number of candidates left:\n",
      "593\n",
      "\n"
     ]
    }
   ],
   "source": [
    "for t in [planets, candidates]:\n",
    "    t.periodCut()\n",
    "    t.magCut()\n",
    "    t.tempCut((3600, 7100))\n",
    "    t.loggCut()\n",
    "#     t.loggCut((3,4.9))\n",
    "\n",
    "    "
   ]
  },
  {
   "cell_type": "code",
   "execution_count": 4,
   "id": "0a2dbddf",
   "metadata": {},
   "outputs": [
    {
     "name": "stdout",
     "output_type": "stream",
     "text": [
      "number of planets before planetary radius cut:\n",
      "2175\n",
      "\n",
      "number of planets to fail planetary radius cut:\n",
      "2535\n",
      "\n",
      "number of planets left:\n",
      "91\n",
      "\n",
      "number of planets before period cut:\n",
      "91\n",
      "\n",
      "number of planets to fail period cut:\n",
      "2054\n",
      "\n",
      "number of planets left:\n",
      "45\n",
      "\n",
      "number of candidates before planetary radius cut:\n",
      "593\n",
      "\n",
      "number of candidates to fail planetary radius cut:\n",
      "1741\n",
      "\n",
      "number of candidates left:\n",
      "56\n",
      "\n",
      "number of candidates before period cut:\n",
      "56\n",
      "\n",
      "number of candidates to fail period cut:\n",
      "1641\n",
      "\n",
      "number of candidates left:\n",
      "21\n",
      "\n"
     ]
    }
   ],
   "source": [
    "# recreate tables but mask out non-hot Jupiters\n",
    "hotJp = 5 # days\n",
    "hotJr = 5.6 # earth radii\n",
    "hotPlanets = copy.copy(planets)\n",
    "hotCand = copy.copy(candidates)\n",
    "for i in [hotPlanets, hotCand]:\n",
    "    i.radiusCut((hotJr, np.inf))\n",
    "    i.periodCut((0, hotJp))\n"
   ]
  },
  {
   "cell_type": "code",
   "execution_count": 5,
   "id": "25dbc8da",
   "metadata": {},
   "outputs": [
    {
     "name": "stdout",
     "output_type": "stream",
     "text": [
      "[3794.44444444 4183.33333333 4572.22222222 4961.11111111 5350.\n",
      " 5738.88888889 6127.77777778 6516.66666667 6905.55555556] [ 79  84 119 278 526 872 662 121  27]\n"
     ]
    },
    {
     "data": {
      "text/plain": [
       "Text(0.5, 0, 'T$_{\\\\mathrm{eff}}$ (K)')"
      ]
     },
     "execution_count": 5,
     "metadata": {},
     "output_type": "execute_result"
    },
    {
     "data": {
      "image/png": "[encoded data removed]",
      "text/plain": [
       "<Figure size 432x288 with 1 Axes>"
      ]
     },
     "metadata": {
      "needs_background": "light"
     },
     "output_type": "display_data"
    }
   ],
   "source": [
    "# characterize the stars in terms of hot/not hot jupiters\n",
    "teffbins = np.linspace(3600, 7100, 10)\n",
    "# to mask out errors\n",
    "emsk = (slice(None), 0)\n",
    "\n",
    "\n",
    "def calc_hist(planets, candidates):\n",
    "    temp = planets.getMaskedData('temperature')\n",
    "    period = planets.getMaskedData('period')\n",
    "    tempc = candidates.getMaskedData('temperature')\n",
    "    periodc = candidates.getMaskedData('period')\n",
    "    hist, bins = np.histogram(temp, teffbins)\n",
    "    hist2, bins = np.histogram(tempc ,teffbins)\n",
    "    hist += hist2\n",
    "    bin_centers = bins[:-1] + 0.5 * (bins[1]-bins[0])\n",
    "    return hist, bin_centers\n",
    "\n",
    "allhist, binc = calc_hist(planets, candidates)\n",
    "hothist, binc = calc_hist(hotPlanets, hotCand)\n",
    "print(binc, allhist)\n",
    "plt.plot(binc, allhist/np.max(allhist), label = 'P $\\\\geq$ 5 days \\n R $<$ 5.6 R$_\\\\bigoplus$')\n",
    "plt.plot(binc, hothist/np.max(hothist), label = 'P $\\\\epsilon$ [0, 5) days\\nR $\\geq$ 5.6 R$_\\\\bigoplus$')\n",
    "plt.legend(loc = 'upper left')\n",
    "plt.ylabel('Planets (Normalized Count)', fontsize = 12)\n",
    "plt.xlabel(r'T$_{\\mathrm{eff}}$ (K)', fontsize = 12)"
   ]
  },
  {
   "cell_type": "code",
   "execution_count": 6,
   "id": "6226c0ea",
   "metadata": {},
   "outputs": [
    {
     "name": "stdout",
     "output_type": "stream",
     "text": [
      "number of planets before period cut:\n",
      "2175\n",
      "\n",
      "number of planets to fail period cut:\n",
      "2346\n",
      "\n",
      "number of planets left:\n",
      "347\n",
      "\n",
      "number of candidates before period cut:\n",
      "593\n",
      "\n",
      "number of candidates to fail period cut:\n",
      "1839\n",
      "\n",
      "number of candidates left:\n",
      "100\n",
      "\n",
      "number of planets before period cut:\n",
      "2175\n",
      "\n",
      "number of planets to fail period cut:\n",
      "1634\n",
      "\n",
      "number of planets left:\n",
      "997\n",
      "\n",
      "number of candidates before period cut:\n",
      "593\n",
      "\n",
      "number of candidates to fail period cut:\n",
      "1480\n",
      "\n",
      "number of candidates left:\n",
      "290\n",
      "\n",
      "number of planets before period cut:\n",
      "2175\n",
      "\n",
      "number of planets to fail period cut:\n",
      "1874\n",
      "\n",
      "number of planets left:\n",
      "774\n",
      "\n",
      "number of candidates before period cut:\n",
      "593\n",
      "\n",
      "number of candidates to fail period cut:\n",
      "1618\n",
      "\n",
      "number of candidates left:\n",
      "177\n",
      "\n"
     ]
    },
    {
     "data": {
      "text/plain": [
       "Text(0.5, 0, 'T$_{\\\\mathrm{eff}}$ (K)')"
      ]
     },
     "execution_count": 6,
     "metadata": {},
     "output_type": "execute_result"
    },
    {
     "data": {
      "image/png": "[encoded data removed]",
      "text/plain": [
       "<Figure size 432x288 with 1 Axes>"
      ]
     },
     "metadata": {
      "needs_background": "light"
     },
     "output_type": "display_data"
    }
   ],
   "source": [
    "# do a similar analysis but without separating into just hot/not hot jupiters\n",
    "period_bins = np.logspace(0,np.log10(50),4)\n",
    "\n",
    "for i in range(len(period_bins) - 1):\n",
    "    prange = (period_bins[i], period_bins[i+1])\n",
    "    cpp = copy.copy(planets)\n",
    "    cpc = copy.copy(candidates)\n",
    "    cpp.periodCut(prange)\n",
    "    cpc.periodCut(prange)\n",
    "    hist, binc = calc_hist(cpp, cpc)\n",
    "    ls = '-'\n",
    "#     if i == 0:\n",
    "#         ls = '--'\n",
    "#     else:\n",
    "#         ls = '-'\n",
    "    plt.plot(binc, hist/np.max(hist), label = r\"$%.1f \\leq P (\\mathrm{days}) < %.1f$\"%prange,\n",
    "            linestyle = ls)\n",
    "plt.legend()\n",
    "plt.ylabel('Planets (Normalized Count)', fontsize = 12)\n",
    "plt.xlabel(r'T$_{\\mathrm{eff}}$ (K)', fontsize = 12)"
   ]
  },
  {
   "cell_type": "code",
   "execution_count": 7,
   "id": "6972403f",
   "metadata": {},
   "outputs": [
    {
     "name": "stdout",
     "output_type": "stream",
     "text": [
      "number of planets before planetary radius cut:\n",
      "2175\n",
      "\n",
      "number of planets to fail planetary radius cut:\n",
      "1651\n",
      "\n",
      "number of planets left:\n",
      "967\n",
      "\n",
      "number of candidates before planetary radius cut:\n",
      "593\n",
      "\n",
      "number of candidates to fail planetary radius cut:\n",
      "1093\n",
      "\n",
      "number of candidates left:\n",
      "403\n",
      "\n",
      "number of planets before planetary radius cut:\n",
      "2175\n",
      "\n",
      "number of planets to fail planetary radius cut:\n",
      "1280\n",
      "\n",
      "number of planets left:\n",
      "1095\n",
      "\n",
      "number of candidates before planetary radius cut:\n",
      "593\n",
      "\n",
      "number of candidates to fail planetary radius cut:\n",
      "1447\n",
      "\n",
      "number of candidates left:\n",
      "80\n",
      "\n",
      "number of planets before planetary radius cut:\n",
      "2175\n",
      "\n",
      "number of planets to fail planetary radius cut:\n",
      "2538\n",
      "\n",
      "number of planets left:\n",
      "88\n",
      "\n",
      "number of candidates before planetary radius cut:\n",
      "593\n",
      "\n",
      "number of candidates to fail planetary radius cut:\n",
      "1869\n",
      "\n",
      "number of candidates left:\n",
      "29\n",
      "\n"
     ]
    },
    {
     "data": {
      "text/plain": [
       "Text(0.5, 0, 'T$_{\\\\mathrm{eff}}$ (K)')"
      ]
     },
     "execution_count": 7,
     "metadata": {},
     "output_type": "execute_result"
    },
    {
     "data": {
      "image/png": "[encoded data removed]",
      "text/plain": [
       "<Figure size 432x288 with 1 Axes>"
      ]
     },
     "metadata": {
      "needs_background": "light"
     },
     "output_type": "display_data"
    }
   ],
   "source": [
    "# do a similar analysis but without separating into just hot/not hot jupiters\n",
    "radius_bins = np.logspace(-0.2, 1.2, 4)\n",
    "for i in range(len(radius_bins) - 1):\n",
    "    prange = (radius_bins[i], radius_bins[i+1])\n",
    "    cpp = copy.copy(planets)\n",
    "    cpc = copy.copy(candidates)\n",
    "    cpp.radiusCut(prange)\n",
    "    cpc.radiusCut(prange)\n",
    "    hist, binc = calc_hist(cpp, cpc)\n",
    "#     if i == 0:\n",
    "#         ls = '--'\n",
    "#     else:\n",
    "#         ls = '-'\n",
    "    plt.plot(binc, hist/np.max(hist), label = r\"$%.1f \\leq R (R_\\bigoplus) \\leq %.1f$\"%prange,\n",
    "            linestyle = ls)\n",
    "plt.legend()\n",
    "plt.ylabel('Planets (Normalized Count)', fontsize = 12)\n",
    "plt.xlabel(r'T$_{\\mathrm{eff}}$ (K)', fontsize = 12)"
   ]
  },
  {
   "cell_type": "code",
   "execution_count": 9,
   "id": "f4e1e636",
   "metadata": {},
   "outputs": [
    {
     "name": "stdout",
     "output_type": "stream",
     "text": [
      "number of planets before met_def cut:\n",
      "1483\n",
      "\n",
      "number of planets to fail met_def cut:\n",
      "897\n",
      "\n",
      "number of planets left:\n",
      "1483\n",
      "\n",
      "number of candidates before met_def cut:\n",
      "593\n",
      "\n"
     ]
    },
    {
     "ename": "KeyError",
     "evalue": "'metallicity_def'",
     "output_type": "error",
     "traceback": [
      "\u001b[0;31m---------------------------------------------------------------------------\u001b[0m",
      "\u001b[0;31mKeyError\u001b[0m                                  Traceback (most recent call last)",
      "Input \u001b[0;32mIn [9]\u001b[0m, in \u001b[0;36m<cell line: 8>\u001b[0;34m()\u001b[0m\n\u001b[1;32m      6\u001b[0m     \u001b[38;5;28;01mreturn\u001b[39;00m np\u001b[38;5;241m.\u001b[39mwhere(data \u001b[38;5;241m==\u001b[39m limit, \u001b[38;5;241m1\u001b[39m, \u001b[38;5;241m0\u001b[39m)\n\u001b[1;32m      7\u001b[0m plc\u001b[38;5;241m.\u001b[39mwinnow(\u001b[38;5;124m'\u001b[39m\u001b[38;5;124mmetallicity_def\u001b[39m\u001b[38;5;124m'\u001b[39m, \u001b[38;5;124m'\u001b[39m\u001b[38;5;124m[Fe/H]\u001b[39m\u001b[38;5;124m'\u001b[39m, \u001b[38;5;124m'\u001b[39m\u001b[38;5;124mmet_def\u001b[39m\u001b[38;5;124m'\u001b[39m, equal)\n\u001b[0;32m----> 8\u001b[0m \u001b[43mcac\u001b[49m\u001b[38;5;241;43m.\u001b[39;49m\u001b[43mwinnow\u001b[49m\u001b[43m(\u001b[49m\u001b[38;5;124;43m'\u001b[39;49m\u001b[38;5;124;43mmetallicity_def\u001b[39;49m\u001b[38;5;124;43m'\u001b[39;49m\u001b[43m,\u001b[49m\u001b[43m \u001b[49m\u001b[38;5;124;43m'\u001b[39;49m\u001b[38;5;124;43m[Fe/H]\u001b[39;49m\u001b[38;5;124;43m'\u001b[39;49m\u001b[43m,\u001b[49m\u001b[43m \u001b[49m\u001b[38;5;124;43m'\u001b[39;49m\u001b[38;5;124;43mmet_def\u001b[39;49m\u001b[38;5;124;43m'\u001b[39;49m\u001b[43m,\u001b[49m\u001b[43m \u001b[49m\u001b[43mequal\u001b[49m\u001b[43m)\u001b[49m\n\u001b[1;32m      9\u001b[0m plc\u001b[38;5;241m.\u001b[39mgetMaskedData(\u001b[38;5;124m'\u001b[39m\u001b[38;5;124mmetallicity_def\u001b[39m\u001b[38;5;124m'\u001b[39m)\n",
      "File \u001b[0;32m~/OREO/table.py:134\u001b[0m, in \u001b[0;36mTable.winnow\u001b[0;34m(self, data_key, limits, name, apply_cut)\u001b[0m\n\u001b[1;32m    131\u001b[0m \u001b[38;5;28;01mif\u001b[39;00m apply_cut \u001b[38;5;129;01mis\u001b[39;00m \u001b[38;5;28;01mNone\u001b[39;00m:\n\u001b[1;32m    132\u001b[0m     apply_cut \u001b[38;5;241m=\u001b[39m \u001b[38;5;28mself\u001b[39m\u001b[38;5;241m.\u001b[39m_applyLimits\n\u001b[0;32m--> 134\u001b[0m for_winnow \u001b[38;5;241m=\u001b[39m \u001b[38;5;28;43mself\u001b[39;49m\u001b[38;5;241;43m.\u001b[39;49m\u001b[43mgetAllData\u001b[49m\u001b[43m(\u001b[49m\u001b[43m)\u001b[49m\u001b[43m[\u001b[49m\u001b[43mdata_key\u001b[49m\u001b[43m]\u001b[49m\n\u001b[1;32m    136\u001b[0m \u001b[38;5;66;03m# check the shape of the data - if 2D than need a slice\u001b[39;00m\n\u001b[1;32m    137\u001b[0m \u001b[38;5;66;03m# to access just the values and not the errorbars too.\u001b[39;00m\n\u001b[1;32m    138\u001b[0m \u001b[38;5;28;01mif\u001b[39;00m \u001b[38;5;28mlen\u001b[39m(for_winnow\u001b[38;5;241m.\u001b[39mshape) \u001b[38;5;241m==\u001b[39m \u001b[38;5;241m2\u001b[39m:\n",
      "\u001b[0;31mKeyError\u001b[0m: 'metallicity_def'"
     ]
    }
   ],
   "source": [
    "# looking at metallicity\n",
    "# winnow by the planets that have Fe/H def\n",
    "plc = copy.copy(planets)\n",
    "cac = copy.copy(candidates)\n",
    "def equal(data, limit):\n",
    "    return np.where(data == limit, 1, 0)\n",
    "plc.winnow('metallicity_def', '[Fe/H]', 'met_def', equal)\n",
    "# candidates already have the Fe/H definition\n",
    "metp = plc.getMaskedData('metallicity')\n"
   ]
  },
  {
   "cell_type": "code",
   "execution_count": null,
   "id": "e9834e70",
   "metadata": {},
   "outputs": [],
   "source": []
  }
 ],
 "metadata": {
  "kernelspec": {
   "display_name": "Python 3 (ipykernel)",
   "language": "python",
   "name": "python3"
  },
  "language_info": {
   "codemirror_mode": {
    "name": "ipython",
    "version": 3
   },
   "file_extension": ".py",
   "mimetype": "text/x-python",
   "name": "python",
   "nbconvert_exporter": "python",
   "pygments_lexer": "ipython3",
   "version": "3.8.5"
  }
 },
 "nbformat": 4,
 "nbformat_minor": 5
}
